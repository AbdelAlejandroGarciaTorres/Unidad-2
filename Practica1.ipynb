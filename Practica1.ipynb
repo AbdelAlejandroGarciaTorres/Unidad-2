{
  "nbformat": 4,
  "nbformat_minor": 0,
  "metadata": {
    "colab": {
      "provenance": [],
      "authorship_tag": "ABX9TyNFgVnmDIlA7NihaY2mq224",
      "include_colab_link": true
    },
    "kernelspec": {
      "name": "python3",
      "display_name": "Python 3"
    },
    "language_info": {
      "name": "python"
    }
  },
  "cells": [
    {
      "cell_type": "markdown",
      "metadata": {
        "id": "view-in-github",
        "colab_type": "text"
      },
      "source": [
        "<a href=\"https://colab.research.google.com/github/AbdelAlejandroGarciaTorres/Unidad-2/blob/main/Practica1.ipynb\" target=\"_parent\"><img src=\"https://colab.research.google.com/assets/colab-badge.svg\" alt=\"Open In Colab\"/></a>"
      ]
    },
    {
      "cell_type": "markdown",
      "source": [
        "**¿Que es Pandas en Python?**\n",
        "---\n",
        "Pandas en una libreria o biblioteca de python que se usa para trabajar un conjunto de datos tiene funciones para analizar, limpiar, explorar y recopilar datos el nombre pandas hace referencia a Panel data y Python data.\n",
        "Fue creado en el 2008\n",
        "---\n",
        "**¿Por que utilizar pandas?**\n",
        "---\n",
        "Pandas nos permite analizar big data y sacar conclusiones basadas en teorias estadisticas. Los Pandas pueden limpiar conjuntos de datos desordenados y hacerlos legibles relevantes.\n",
        "Los datos relevantes son muy importantes en la ciencia de datos\n",
        "---\n",
        "**¿Que podemos hacer con pandas?**\n",
        "---\n",
        "1.-Saber si existe coorrelacion entre 2 o mas columnas.\n",
        "---\n",
        "2.-Cual es el valor promedio.\n",
        "---\n",
        "3.-Valor maximo.\n",
        "---\n",
        "4.-Valor minimo.\n",
        "---\n",
        "Pandas tambien pueden eliminar filas que no son relevantes o que contienen errores, como valores vacios. Esto se llama limpieza de datos\n",
        "---\n",
        "**Instalacion de Pandas?**\n",
        "---\n",
        "Si tienes Python y PiP ya instalado en un sistema instalalo usando el siguiente comando.\n",
        "---\n",
        "pip install pandas\n",
        "---\n",
        "Si este comando falla utiliza una distribucion de python que ya tenga pandas instalado\n",
        "---\n",
        "**Importar pandas**\n",
        "---\n",
        "Una ves instalado pandas importalo a tus aplicaciones agregando la palabra clave: **import pandas** Ahora pandas esta importado y listo para usar.\n",
        "---\n",
        "Pandas como pd.\n",
        "---\n",
        "Crea un aliar con la palabra as al importar pandas\n",
        "---\n",
        "**Ejemplo:**\n",
        "---\n",
        "import pandas as pd\n",
        "---\n",
        "Ahora el paquete pandas puede denominarse pd en lugar de pandas\n",
        "---\n",
        "**Comprobando la version de pandas**\n",
        "---\n",
        "La cadena de la version se almacena en el atributo __version__\n",
        "---\n",
        "**Ejemplo:**\n",
        "---"
      ],
      "metadata": {
        "id": "kPW51kexRfiJ"
      }
    },
    {
      "cell_type": "code",
      "source": [
        "import pandas as pd\n",
        "print(pd.__version__)"
      ],
      "metadata": {
        "colab": {
          "base_uri": "https://localhost:8080/"
        },
        "id": "CptEJ1NbVxfg",
        "outputId": "2b38419d-79f1-42af-8340-894c0a371df5"
      },
      "execution_count": 1,
      "outputs": [
        {
          "output_type": "stream",
          "name": "stdout",
          "text": [
            "2.2.2\n"
          ]
        }
      ]
    },
    {
      "cell_type": "markdown",
      "source": [
        "**Ejercicio:**\n",
        "---\n",
        "**¿Cual de las siguientes 3 opciones es la biblioteca oficial de pandas?**\n",
        "---\n",
        "1.-import p\n",
        "---\n",
        "2.-**import pandas**\n",
        "---\n",
        "3.-import pan\n",
        "---\n",
        "**Pandas serie**\n",
        "---\n",
        "**¿Que es una serie?**\n",
        "---\n",
        "Una serie pandas es como una columna en una tabla. Es una matriz unidimensional que contiene datos de cualquier tipo.\n",
        "---\n",
        "**Ejemplo**\n",
        "---"
      ],
      "metadata": {
        "id": "I-gPFjh9W-jV"
      }
    },
    {
      "cell_type": "code",
      "source": [
        "import pandas as pd\n",
        "a=[1,7,2]\n",
        "myvar=pd.Series(a)\n",
        "print(myvar)"
      ],
      "metadata": {
        "colab": {
          "base_uri": "https://localhost:8080/"
        },
        "id": "OqTJzF9dX6wO",
        "outputId": "834c3335-e5eb-475c-df66-6da8b4058535"
      },
      "execution_count": 5,
      "outputs": [
        {
          "output_type": "stream",
          "name": "stdout",
          "text": [
            "0    1\n",
            "1    7\n",
            "2    2\n",
            "dtype: int64\n"
          ]
        }
      ]
    },
    {
      "cell_type": "markdown",
      "source": [
        "**Etiquetas**\n",
        "---\n",
        "Si no se especifica nada mas, los valores se etiquetan con su numero de indice el primer valor tiene el indice 0, el segundo valor tiene el indice 1, etc.\n",
        "---\n",
        "Esta etiqueta se puede utilizat para acceder a un valor especifico.\n",
        "---\n",
        "**Ejemplo:**\n",
        "---\n",
        "Devuelve el primer valor de la serie\n",
        "---\n"
      ],
      "metadata": {
        "id": "PCMHk0hbYeMM"
      }
    },
    {
      "cell_type": "code",
      "source": [
        "import pandas as pd\n",
        "a=[1,7,2]\n",
        "print(myvar[0])"
      ],
      "metadata": {
        "colab": {
          "base_uri": "https://localhost:8080/"
        },
        "outputId": "5b9966a4-2388-4711-a08c-749bd1215a61",
        "id": "HGDQ_Gh4ZDdG"
      },
      "execution_count": 6,
      "outputs": [
        {
          "output_type": "stream",
          "name": "stdout",
          "text": [
            "1\n"
          ]
        }
      ]
    },
    {
      "cell_type": "markdown",
      "source": [
        "**Crear etiquetas**\n",
        "---\n",
        "Con el argumento index, podemos nombrar nuestras propias etiquetas.\n",
        "---\n",
        "**Ejemplo:**\n",
        "---"
      ],
      "metadata": {
        "id": "t2uwAtWjZI5c"
      }
    },
    {
      "cell_type": "code",
      "source": [
        "import pandas as pd\n",
        "a=[1,7,2]\n",
        "myvar=pd.Series(a,index=[\"x\",\"y\",\"z\"])\n",
        "print(myvar)"
      ],
      "metadata": {
        "colab": {
          "base_uri": "https://localhost:8080/"
        },
        "outputId": "4ff821ad-0b97-4612-ff34-0a59a7b98d29",
        "id": "R5B-sd4UZUgm"
      },
      "execution_count": 7,
      "outputs": [
        {
          "output_type": "stream",
          "name": "stdout",
          "text": [
            "x    1\n",
            "y    7\n",
            "z    2\n",
            "dtype: int64\n"
          ]
        }
      ]
    },
    {
      "cell_type": "markdown",
      "source": [
        "Cuando hayamos creado etiquetas podemos acceder a un elemento haciendo referencia a su etiqueta.\n",
        "---\n",
        "**Ejemplo:**\n",
        "---\n",
        "Devuelve el valor a y\n",
        "---"
      ],
      "metadata": {
        "id": "dDecM_72Z-MF"
      }
    },
    {
      "cell_type": "code",
      "source": [
        "import pandas as pd\n",
        "a=[1,7,2]\n",
        "myvar=pd.Series(a, index=[\"x\",\"y\",\"z\"])\n",
        "print(myvar[\"y\"])"
      ],
      "metadata": {
        "colab": {
          "base_uri": "https://localhost:8080/"
        },
        "outputId": "670a2a50-a044-432f-ceb4-1f4f8dda01ed",
        "id": "sL2yOqYiaN0Z"
      },
      "execution_count": 14,
      "outputs": [
        {
          "output_type": "stream",
          "name": "stdout",
          "text": [
            "7\n"
          ]
        }
      ]
    },
    {
      "cell_type": "markdown",
      "source": [
        "**Objetos clave/valor como serie**\n",
        "---\n",
        "Tambien podemos utilizar un objeto clave o valor como un diccionario, al crear una serie:\n",
        "---\n",
        "**Ejemplo**\n",
        "---\n",
        "Crea una serie pandas basica a partir de un diccionario\n",
        "---"
      ],
      "metadata": {
        "id": "6Sc-OQnna5wr"
      }
    },
    {
      "cell_type": "code",
      "source": [
        "import pandas as pd\n",
        "calorias={\"dia 1\":420,\"dia 2\":380,\"dia 3\":390}\n",
        "myvar=pd.Series(calorias)\n",
        "print(myvar)"
      ],
      "metadata": {
        "colab": {
          "base_uri": "https://localhost:8080/"
        },
        "outputId": "7b5367ee-2c4f-4b6b-bce0-89f69233a62c",
        "id": "SUQ3e4xgbhYg"
      },
      "execution_count": 15,
      "outputs": [
        {
          "output_type": "stream",
          "name": "stdout",
          "text": [
            "dia 1    420\n",
            "dia 2    380\n",
            "dia 3    390\n",
            "dtype: int64\n"
          ]
        }
      ]
    },
    {
      "cell_type": "markdown",
      "source": [
        "**Nota**\n",
        "---\n",
        "Las claves del diccionario se convierten en las etiquetas.\n",
        "---\n",
        "Para seleccionar elementos del diccionario utilize el argumento index y especifique el elemento que desea incluir en la serie.\n",
        "---\n",
        "**Ejemplo**\n",
        "---\n",
        "Crea una serie utilizando unicamente datos de dia 1 y dia 2.\n",
        "---\n"
      ],
      "metadata": {
        "id": "8juD1bDrb3iL"
      }
    },
    {
      "cell_type": "code",
      "source": [
        "import pandas as pd\n",
        "calorias={\"dia 1\":420,\"dia 2\":380,\"dia 3\":390}\n",
        "myvar=pd.Series(calorias, index=[\"dia 1\",\"dia 2\"])\n",
        "print(myvar)"
      ],
      "metadata": {
        "colab": {
          "base_uri": "https://localhost:8080/"
        },
        "outputId": "b38e920c-1655-4563-9e9e-91eb887a3008",
        "id": "85Hit7IkcNKd"
      },
      "execution_count": 16,
      "outputs": [
        {
          "output_type": "stream",
          "name": "stdout",
          "text": [
            "dia 1    420\n",
            "dia 2    380\n",
            "dtype: int64\n"
          ]
        }
      ]
    },
    {
      "cell_type": "markdown",
      "source": [
        "**Marcos de datos**\n",
        "---\n",
        "Los conjutnos de datos en pandas suelen ser tablas multidimensionales, llamadas data frames. La serie es como una colimna, un data frame es toda la tabla.\n",
        "---\n",
        "**Ejemplo**\n",
        "---\n",
        "Crea un data frame apartir de 2 series\n",
        "---\n"
      ],
      "metadata": {
        "id": "3FwEpPwfcpU0"
      }
    },
    {
      "cell_type": "code",
      "source": [
        "import pandas as pd\n",
        "data={\n",
        "    \"calorias\":[420,380,390],\n",
        "    \"duracion\":[50,40,45]\n",
        "    }\n",
        "myvar=pd.DataFrame(data)\n",
        "print(myvar)"
      ],
      "metadata": {
        "colab": {
          "base_uri": "https://localhost:8080/"
        },
        "outputId": "b54e84ab-fa14-44cf-95ed-c1a22e056ffe",
        "id": "H6QcIbWteGQs"
      },
      "execution_count": 19,
      "outputs": [
        {
          "output_type": "stream",
          "name": "stdout",
          "text": [
            "   calorias  duracion\n",
            "0       420        50\n",
            "1       380        40\n",
            "2       390        45\n"
          ]
        }
      ]
    },
    {
      "cell_type": "markdown",
      "source": [
        "**¿Una serie es como un renglon en una tabla?**\n",
        "---\n",
        "Falso es como una columna\n",
        "---"
      ],
      "metadata": {
        "id": "ygeMwR27dAip"
      }
    }
  ]
}