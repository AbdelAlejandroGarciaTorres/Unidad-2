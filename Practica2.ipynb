{
  "nbformat": 4,
  "nbformat_minor": 0,
  "metadata": {
    "colab": {
      "provenance": [],
      "authorship_tag": "ABX9TyMiTHRZ6S00nAKYa9COEYFY",
      "include_colab_link": true
    },
    "kernelspec": {
      "name": "python3",
      "display_name": "Python 3"
    },
    "language_info": {
      "name": "python"
    }
  },
  "cells": [
    {
      "cell_type": "markdown",
      "metadata": {
        "id": "view-in-github",
        "colab_type": "text"
      },
      "source": [
        "<a href=\"https://colab.research.google.com/github/AbdelAlejandroGarciaTorres/Unidad-2/blob/main/Practica2.ipynb\" target=\"_parent\"><img src=\"https://colab.research.google.com/assets/colab-badge.svg\" alt=\"Open In Colab\"/></a>"
      ]
    },
    {
      "cell_type": "markdown",
      "source": [
        "Abdel Alejandro Garcia Torres - Practica 2 de Pandas\n",
        "---\n",
        "7 de Octubre de 2025\n",
        "---\n",
        "DataFrames de pandas\n",
        "---\n",
        "Un DataFrame es una estructura de datos bidimensionales, como una matriz o tabla con filas y columnas\n",
        "---\n",
        "**Ejemplo**: Crea un DataFrame basico:\n",
        "---"
      ],
      "metadata": {
        "id": "OF2YhThY2X_s"
      }
    },
    {
      "cell_type": "code",
      "source": [
        "import pandas as pd\n",
        "datos={\n",
        "    \"calorias\":[420,380,390],\n",
        "    \"duracion\":[50,40,45]\n",
        "}\n",
        "#Cargar datos dentro del DATAFRAME\n",
        "dataframe=pd.DataFrame(datos)\n",
        "print(dataframe)"
      ],
      "metadata": {
        "colab": {
          "base_uri": "https://localhost:8080/"
        },
        "id": "teruayCY3V_J",
        "outputId": "e07df22f-8a27-41cf-ac3f-b96d1aedc84a"
      },
      "execution_count": 1,
      "outputs": [
        {
          "output_type": "stream",
          "name": "stdout",
          "text": [
            "   calorias  duracion\n",
            "0       420        50\n",
            "1       380        40\n",
            "2       390        45\n"
          ]
        }
      ]
    },
    {
      "cell_type": "markdown",
      "source": [
        "Localizar filas\n",
        "---\n",
        "Como puedes ver en el resultado anterior, el DataFrame es como una tabla con filas y columnas.\n",
        "Pandas usa el atributo \"loc\" para devolver una o mas filas especificas\n",
        "---\n",
        "Ejemplo:Devuelve la fila 0"
      ],
      "metadata": {
        "id": "1VSbocEC7Feh"
      }
    },
    {
      "cell_type": "code",
      "source": [
        "import pandas as pd\n",
        "datos={\n",
        "    \"calorias\":[420,380,390],\n",
        "    \"duracion\":[50,40,45]\n",
        "}\n",
        "#Cargar datos dentro del DATAFRAME\n",
        "dataframe=pd.DataFrame(datos)\n",
        "print(dataframe.loc[0])"
      ],
      "metadata": {
        "colab": {
          "base_uri": "https://localhost:8080/"
        },
        "outputId": "fa15e279-f017-4f2c-9282-60b58e9d013d",
        "id": "4n41GHEX9rZ_"
      },
      "execution_count": 2,
      "outputs": [
        {
          "output_type": "stream",
          "name": "stdout",
          "text": [
            "calorias    420\n",
            "duracion     50\n",
            "Name: 0, dtype: int64\n"
          ]
        }
      ]
    },
    {
      "cell_type": "markdown",
      "source": [
        "Ejemplo: Devuelve las filas 0 y 1:\n",
        "---"
      ],
      "metadata": {
        "id": "zvNwQOIf9yNU"
      }
    },
    {
      "cell_type": "code",
      "source": [
        "import pandas as pd\n",
        "datos={\n",
        "    \"calorias\":[420,380,390],\n",
        "    \"duracion\":[50,40,45]\n",
        "}\n",
        "#Cargar datos dentro del DATAFRAME\n",
        "dataframe=pd.DataFrame(datos)\n",
        "print(dataframe.loc[[0,1]])"
      ],
      "metadata": {
        "colab": {
          "base_uri": "https://localhost:8080/"
        },
        "outputId": "b8132b2e-c1c0-4110-ae0a-6926cc64407b",
        "id": "qCrzUnPv92pp"
      },
      "execution_count": 5,
      "outputs": [
        {
          "output_type": "stream",
          "name": "stdout",
          "text": [
            "   calorias  duracion\n",
            "0       420        50\n",
            "1       380        40\n"
          ]
        }
      ]
    },
    {
      "cell_type": "markdown",
      "source": [
        "ndices nombrados\n",
        "---\n",
        "Con el argumento \"index\", puedes nombrar tus propios indices o etiquetas.\n",
        "Ejemplo:agrega una lista de nombres para darle una etiqueta a cada fila:\n",
        "---\n"
      ],
      "metadata": {
        "id": "Gq-Ojlva-rO5"
      }
    },
    {
      "cell_type": "code",
      "source": [
        "import pandas as pd\n",
        "datos={\n",
        "    \"calorias\":[420,380,390],\n",
        "    \"duracion\":[50,40,45]\n",
        "}\n",
        "#Cargar datos dentro del DATAFRAME\n",
        "dataframe=pd.DataFrame(datos, index=[\"dia-1\",\"dia-2\",\"dia-3\"])\n",
        "print(dataframe)"
      ],
      "metadata": {
        "colab": {
          "base_uri": "https://localhost:8080/"
        },
        "outputId": "2493b9c3-cf2b-496e-d2fb-6476bc016fce",
        "id": "OS9ZgCEf-8Q3"
      },
      "execution_count": 6,
      "outputs": [
        {
          "output_type": "stream",
          "name": "stdout",
          "text": [
            "       calorias  duracion\n",
            "dia-1       420        50\n",
            "dia-2       380        40\n",
            "dia-3       390        45\n"
          ]
        }
      ]
    },
    {
      "cell_type": "markdown",
      "source": [
        "Localizar indices por el nombre o etiqueta.\n",
        "---\n",
        "Utilize el atribute \"loc\" para devolver la(s) fila(s) especificas\n",
        "---\n",
        "Ejemplo: Devuelve la fila dia-2:\n",
        "---"
      ],
      "metadata": {
        "id": "LkDn_voS_pzL"
      }
    },
    {
      "cell_type": "code",
      "source": [
        "import pandas as pd\n",
        "datos={\n",
        "    \"calorias\":[420,380,390],\n",
        "    \"duracion\":[50,40,45]\n",
        "}\n",
        "#Cargar datos dentro del DATAFRAME\n",
        "dataframe=pd.DataFrame(datos, index=[\"dia-1\",\"dia-2\",\"dia-3\"])\n",
        "print(dataframe.loc[\"dia-2\"])"
      ],
      "metadata": {
        "colab": {
          "base_uri": "https://localhost:8080/"
        },
        "outputId": "b4890a23-72cc-4515-c179-67492d4d343d",
        "id": "QvrBlZr0AGZ6"
      },
      "execution_count": 8,
      "outputs": [
        {
          "output_type": "stream",
          "name": "stdout",
          "text": [
            "calorias    380\n",
            "duracion     40\n",
            "Name: dia-2, dtype: int64\n"
          ]
        }
      ]
    }
  ]
}